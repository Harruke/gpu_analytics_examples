{
 "cells": [
  {
   "cell_type": "code",
   "execution_count": 1,
   "id": "22fe93d7",
   "metadata": {
    "execution": {
     "iopub.execute_input": "2022-02-27T20:34:09.033371Z",
     "iopub.status.busy": "2022-02-27T20:34:09.032725Z",
     "iopub.status.idle": "2022-02-27T20:34:10.246606Z",
     "shell.execute_reply": "2022-02-27T20:34:10.246073Z",
     "shell.execute_reply.started": "2022-02-27T20:34:09.033272Z"
    },
    "tags": []
   },
   "outputs": [],
   "source": [
    "import pandas as pd\n",
    "from sklearn.linear_model import LinearRegression\n",
    "\n",
    "import cudf\n",
    "from cuml.linear_model import LinearRegression as cuLR\n",
    "\n",
    "from glob import glob\n",
    "import time\n",
    "import pdb"
   ]
  },
  {
   "cell_type": "markdown",
   "id": "f91939e3-890d-44c9-9525-dde0c1818321",
   "metadata": {},
   "source": [
    "# CuDF/CuML <=> pandas/scikit-learn"
   ]
  },
  {
   "cell_type": "code",
   "execution_count": 2,
   "id": "3b0d5d73",
   "metadata": {
    "execution": {
     "iopub.execute_input": "2022-02-27T20:34:10.247841Z",
     "iopub.status.busy": "2022-02-27T20:34:10.247582Z",
     "iopub.status.idle": "2022-02-27T20:34:10.262780Z",
     "shell.execute_reply": "2022-02-27T20:34:10.262252Z",
     "shell.execute_reply.started": "2022-02-27T20:34:10.247816Z"
    },
    "tags": []
   },
   "outputs": [],
   "source": [
    "def run_cpu():\n",
    "    start = time.time()\n",
    "    df = [pd.read_csv(item) for item in glob(\"yellow*2020*.csv\")]\n",
    "    zones = pd.read_csv(\"taxi+_zone_lookup.csv\")\n",
    "    print(f\"Loading: {round(time.time()-start, 6)} s\")\n",
    "    \n",
    "    t = time.time()\n",
    "    df = pd.concat(df, axis=0, ignore_index=True)\n",
    "    print(f\"Concatenation: {round(time.time()-t, 6)} s\")\n",
    "    \n",
    "    t = time.time()\n",
    "    top5, least5 = df.nlargest(5, 'fare_amount')['fare_amount'].tolist(), df.nsmallest(5, 'fare_amount')['fare_amount'].tolist()\n",
    "    print(f\"top/least 5: {top5}, {least5}\")\n",
    "    print(f\"top/least 5: {round(time.time()-t, 6)} s\")\n",
    "    \n",
    "    t = time.time()\n",
    "    df['tpep_pickup_datetime'] = pd.to_datetime(df['tpep_pickup_datetime'])\n",
    "    df[\"date\"], df['hour'] = df['tpep_pickup_datetime'].dt.date, df['tpep_pickup_datetime'].dt.hour\n",
    "    print(f\"convert to datetime and split in date/time: {round(time.time()-t, 6)} s\")\n",
    "    \n",
    "    t = time.time()\n",
    "    grped = df.groupby([\"hour\", \"PULocationID\"]).size().to_frame('count').reset_index()\n",
    "    grped = pd.merge(grped, zones, left_on='PULocationID', right_on='LocationID', how='left')\n",
    "    busiest = grped[grped['hour']==8].sort_values('count')['Zone'].tail().tolist()\n",
    "    print(f\"Busiest PU locations: {busiest}\")\n",
    "    print(f\"Get busiest PU location at 8 am: {round(time.time()-t, 6)} s\")\n",
    "    \n",
    "    t = time.time()\n",
    "    df = df[['passenger_count', 'trip_distance', 'congestion_surcharge', 'fare_amount']].dropna()\n",
    "    reg = LinearRegression().fit(\n",
    "        df[['passenger_count', 'trip_distance', 'congestion_surcharge']], df['fare_amount'])\n",
    "    print(f\"Linear Regression coefs: {reg.coef_}\")\n",
    "    print(f\"Linear regressions fitted in: {round(time.time()-t, 6)} s\")\n",
    "    \n",
    "    print(f\"TOTAL RUN TIME: {time.time()-start}\")\n",
    "    \n",
    "\n",
    "def run_gpu():\n",
    "    start = time.time()\n",
    "    df = [cudf.read_csv(item) for item in glob(\"yellow*2020*.csv\")]\n",
    "    zones = cudf.read_csv(\"taxi+_zone_lookup.csv\")\n",
    "    print(f\"Loading: {round(time.time()-start, 6)} s\")\n",
    "    \n",
    "    t = time.time()\n",
    "    df = cudf.concat(df, axis=0, ignore_index=True)\n",
    "    print(f\"Concatenation: {round(time.time()-t, 6)} s\")\n",
    "    \n",
    "    t = time.time()\n",
    "    top5, least5 = df.nlargest(5, 'fare_amount')['fare_amount'].values.tolist(), df.nsmallest(5, 'fare_amount')['fare_amount'].values.tolist()\n",
    "    print(f\"top/least 5: {top5}, {least5}\")\n",
    "    print(f\"top/least 5: {round(time.time()-t, 6)} s\")\n",
    "    \n",
    "    t = time.time()\n",
    "    df['tpep_pickup_datetime'] = cudf.to_datetime(df['tpep_pickup_datetime'])\n",
    "    df[\"year\"] = df['tpep_pickup_datetime'].dt.year\n",
    "    df[\"month\"] = df['tpep_pickup_datetime'].dt.month\n",
    "    df[\"day\"] = df['tpep_pickup_datetime'].dt.day\n",
    "    df['hour'] = df['tpep_pickup_datetime'].dt.hour\n",
    "    print(f\"convert to datetime and split in date/time: {round(time.time()-t, 6)} s\")\n",
    "    \n",
    "    t = time.time()\n",
    "    grped = df.groupby([\"hour\", \"PULocationID\"]).size().to_frame('count').reset_index()\n",
    "    grped = cudf.merge(grped, zones, left_on='PULocationID', right_on='LocationID', how='left')\n",
    "    busiest = grped[grped['hour']==8].sort_values('count')['Zone'].tail().to_arrow()\n",
    "    print(f\"Busiest PU locations: {busiest}\")\n",
    "    print(f\"Get busiest PU location at 8 am: {round(time.time()-t, 6)} s\")\n",
    "    \n",
    "    t = time.time()\n",
    "    df = df[['passenger_count', 'trip_distance', 'congestion_surcharge', 'fare_amount']].dropna()\n",
    "    reg = cuLR().fit(\n",
    "        df[['passenger_count', 'trip_distance', 'congestion_surcharge']], df['fare_amount'])\n",
    "    print(f\"Linear Regression coefs: {reg.coef_}\")\n",
    "    print(f\"Linear regressions fitted in: {round(time.time()-t, 6)} s\")\n",
    "    \n",
    "    print(f\"TOTAL RUN TIME: {time.time()-start}\")"
   ]
  },
  {
   "cell_type": "code",
   "execution_count": 3,
   "id": "c617e965",
   "metadata": {
    "execution": {
     "iopub.execute_input": "2022-02-27T20:34:10.264200Z",
     "iopub.status.busy": "2022-02-27T20:34:10.263956Z",
     "iopub.status.idle": "2022-02-27T20:35:00.345651Z",
     "shell.execute_reply": "2022-02-27T20:35:00.344939Z",
     "shell.execute_reply.started": "2022-02-27T20:34:10.264178Z"
    },
    "tags": []
   },
   "outputs": [
    {
     "name": "stderr",
     "output_type": "stream",
     "text": [
      "/srv/conda/envs/saturn/lib/python3.7/site-packages/IPython/core/interactiveshell.py:3457: DtypeWarning: Columns (6) have mixed types.Specify dtype option on import or set low_memory=False.\n",
      "  exec(code_obj, self.user_global_ns, self.user_ns)\n"
     ]
    },
    {
     "name": "stdout",
     "output_type": "stream",
     "text": [
      "Loading: 25.451184 s\n",
      "Concatenation: 2.433759 s\n",
      "top/least 5: [671100.14, 429496.72, 6052.0, 4265.0, 3014.5], [-1259.0, -1238.0, -750.0, -730.0, -500.0]\n",
      "top/least 5: 8.207097 s\n",
      "convert to datetime and split in date/time: 8.459456 s\n",
      "Busiest PU locations: ['Murray Hill', 'Lenox Hill West', 'Penn Station/Madison Sq West', 'Upper East Side South', 'Upper East Side North']\n",
      "Get busiest PU location at 8 am: 0.666884 s\n",
      "Linear Regression coefs: [ 0.11428573  0.68409704 -2.43927103]\n",
      "Linear regressions fitted in: 4.852894 s\n",
      "TOTAL RUN TIME: 50.072824478149414\n"
     ]
    }
   ],
   "source": [
    "run_cpu()"
   ]
  },
  {
   "cell_type": "code",
   "execution_count": 4,
   "id": "d35cf812-4d1d-4af0-93e2-8512ae169227",
   "metadata": {
    "execution": {
     "iopub.execute_input": "2022-02-27T20:35:00.346771Z",
     "iopub.status.busy": "2022-02-27T20:35:00.346521Z",
     "iopub.status.idle": "2022-02-27T20:35:07.712439Z",
     "shell.execute_reply": "2022-02-27T20:35:07.711823Z",
     "shell.execute_reply.started": "2022-02-27T20:35:00.346747Z"
    },
    "tags": []
   },
   "outputs": [
    {
     "name": "stdout",
     "output_type": "stream",
     "text": [
      "Loading: 2.781827 s\n",
      "Concatenation: 0.115865 s\n",
      "top/least 5: [671100.14, 429496.72000000003, 6052.0, 4265.0, 3014.5], [-1259.0, -1238.0, -750.0, -730.0, -500.0]\n",
      "top/least 5: 0.391967 s\n",
      "convert to datetime and split in date/time: 0.024408 s\n",
      "Busiest PU locations: [\n",
      "  \"Murray Hill\",\n",
      "  \"Lenox Hill West\",\n",
      "  \"Penn Station/Madison Sq West\",\n",
      "  \"Upper East Side South\",\n",
      "  \"Upper East Side North\"\n",
      "]\n",
      "Get busiest PU location at 8 am: 0.029709 s\n",
      "Linear Regression coefs: 0    0.114286\n",
      "1    0.684097\n",
      "2   -2.439271\n",
      "dtype: float64\n",
      "Linear regressions fitted in: 1.782436 s\n",
      "TOTAL RUN TIME: 5.127171039581299\n",
      " \n",
      "Loading: 1.04383 s\n",
      "Concatenation: 0.110912 s\n",
      "top/least 5: [671100.14, 429496.72000000003, 6052.0, 4265.0, 3014.5], [-1259.0, -1238.0, -750.0, -730.0, -500.0]\n",
      "top/least 5: 0.387513 s\n",
      "convert to datetime and split in date/time: 0.023665 s\n",
      "Busiest PU locations: [\n",
      "  \"Murray Hill\",\n",
      "  \"Lenox Hill West\",\n",
      "  \"Penn Station/Madison Sq West\",\n",
      "  \"Upper East Side South\",\n",
      "  \"Upper East Side North\"\n",
      "]\n",
      "Get busiest PU location at 8 am: 0.026783 s\n",
      "Linear Regression coefs: 0    0.114286\n",
      "1    0.684097\n",
      "2   -2.439271\n",
      "dtype: float64\n",
      "Linear regressions fitted in: 0.641274 s\n",
      "TOTAL RUN TIME: 2.234628915786743\n",
      " \n"
     ]
    }
   ],
   "source": [
    "for i in range(2):\n",
    "    run_gpu()\n",
    "    print(\" \")"
   ]
  },
  {
   "cell_type": "markdown",
   "id": "f5d80557-a982-4df0-86d1-1b042cf144ef",
   "metadata": {},
   "source": [
    "# BlazingSQL"
   ]
  },
  {
   "cell_type": "code",
   "execution_count": 5,
   "id": "496efe76-29b8-480b-8e74-93964ad02896",
   "metadata": {
    "execution": {
     "iopub.execute_input": "2022-02-27T20:37:54.240087Z",
     "iopub.status.busy": "2022-02-27T20:37:54.239773Z",
     "iopub.status.idle": "2022-02-27T20:37:55.798476Z",
     "shell.execute_reply": "2022-02-27T20:37:55.797848Z",
     "shell.execute_reply.started": "2022-02-27T20:37:54.240060Z"
    },
    "tags": []
   },
   "outputs": [],
   "source": [
    "from blazingsql import BlazingContext"
   ]
  },
  {
   "cell_type": "code",
   "execution_count": 6,
   "id": "1abcd2fb-34a1-4d6f-8601-7f6419e2ea74",
   "metadata": {
    "execution": {
     "iopub.execute_input": "2022-02-27T20:44:13.064035Z",
     "iopub.status.busy": "2022-02-27T20:44:13.063735Z",
     "iopub.status.idle": "2022-02-27T20:44:15.056787Z",
     "shell.execute_reply": "2022-02-27T20:44:15.056058Z",
     "shell.execute_reply.started": "2022-02-27T20:44:13.064010Z"
    },
    "tags": []
   },
   "outputs": [
    {
     "name": "stdout",
     "output_type": "stream",
     "text": [
      "BlazingContext ready\n"
     ]
    }
   ],
   "source": [
    "bc = BlazingContext()\n",
    "\n",
    "bc.create_table(\n",
    "    'taxidata',\n",
    "    glob(\"yellow*2020*.csv\")\n",
    ")"
   ]
  },
  {
   "cell_type": "code",
   "execution_count": 10,
   "id": "585f4670-5529-4f72-80dc-c3ba1a20d249",
   "metadata": {
    "execution": {
     "iopub.execute_input": "2022-02-27T20:52:51.088506Z",
     "iopub.status.busy": "2022-02-27T20:52:51.088181Z",
     "iopub.status.idle": "2022-02-27T20:52:52.597342Z",
     "shell.execute_reply": "2022-02-27T20:52:52.596640Z",
     "shell.execute_reply.started": "2022-02-27T20:52:51.088478Z"
    },
    "tags": []
   },
   "outputs": [
    {
     "data": {
      "text/html": [
       "<div>\n",
       "<style scoped>\n",
       "    .dataframe tbody tr th:only-of-type {\n",
       "        vertical-align: middle;\n",
       "    }\n",
       "\n",
       "    .dataframe tbody tr th {\n",
       "        vertical-align: top;\n",
       "    }\n",
       "\n",
       "    .dataframe thead th {\n",
       "        text-align: right;\n",
       "    }\n",
       "</style>\n",
       "<table border=\"1\" class=\"dataframe\">\n",
       "  <thead>\n",
       "    <tr style=\"text-align: right;\">\n",
       "      <th></th>\n",
       "      <th>fare_amount</th>\n",
       "    </tr>\n",
       "  </thead>\n",
       "  <tbody>\n",
       "    <tr>\n",
       "      <th>0</th>\n",
       "      <td>671100.14</td>\n",
       "    </tr>\n",
       "    <tr>\n",
       "      <th>1</th>\n",
       "      <td>429496.72</td>\n",
       "    </tr>\n",
       "    <tr>\n",
       "      <th>2</th>\n",
       "      <td>6052.00</td>\n",
       "    </tr>\n",
       "    <tr>\n",
       "      <th>3</th>\n",
       "      <td>4265.00</td>\n",
       "    </tr>\n",
       "    <tr>\n",
       "      <th>4</th>\n",
       "      <td>3014.50</td>\n",
       "    </tr>\n",
       "  </tbody>\n",
       "</table>\n",
       "</div>"
      ],
      "text/plain": [
       "   fare_amount\n",
       "0    671100.14\n",
       "1    429496.72\n",
       "2      6052.00\n",
       "3      4265.00\n",
       "4      3014.50"
      ]
     },
     "execution_count": 10,
     "metadata": {},
     "output_type": "execute_result"
    }
   ],
   "source": [
    "bc.sql('SELECT fare_amount FROM taxidata ORDER BY fare_amount DESC LIMIT 5')"
   ]
  },
  {
   "cell_type": "code",
   "execution_count": 11,
   "id": "6b71ae55-ef68-4cd4-9290-628459a74697",
   "metadata": {
    "execution": {
     "iopub.execute_input": "2022-02-27T20:53:47.126531Z",
     "iopub.status.busy": "2022-02-27T20:53:47.126231Z",
     "iopub.status.idle": "2022-02-27T20:53:48.635820Z",
     "shell.execute_reply": "2022-02-27T20:53:48.635174Z",
     "shell.execute_reply.started": "2022-02-27T20:53:47.126506Z"
    },
    "tags": []
   },
   "outputs": [
    {
     "data": {
      "text/html": [
       "<div>\n",
       "<style scoped>\n",
       "    .dataframe tbody tr th:only-of-type {\n",
       "        vertical-align: middle;\n",
       "    }\n",
       "\n",
       "    .dataframe tbody tr th {\n",
       "        vertical-align: top;\n",
       "    }\n",
       "\n",
       "    .dataframe thead th {\n",
       "        text-align: right;\n",
       "    }\n",
       "</style>\n",
       "<table border=\"1\" class=\"dataframe\">\n",
       "  <thead>\n",
       "    <tr style=\"text-align: right;\">\n",
       "      <th></th>\n",
       "      <th>fare_amount</th>\n",
       "    </tr>\n",
       "  </thead>\n",
       "  <tbody>\n",
       "    <tr>\n",
       "      <th>0</th>\n",
       "      <td>-1259.0</td>\n",
       "    </tr>\n",
       "    <tr>\n",
       "      <th>1</th>\n",
       "      <td>-1238.0</td>\n",
       "    </tr>\n",
       "    <tr>\n",
       "      <th>2</th>\n",
       "      <td>-750.0</td>\n",
       "    </tr>\n",
       "    <tr>\n",
       "      <th>3</th>\n",
       "      <td>-730.0</td>\n",
       "    </tr>\n",
       "    <tr>\n",
       "      <th>4</th>\n",
       "      <td>-500.0</td>\n",
       "    </tr>\n",
       "  </tbody>\n",
       "</table>\n",
       "</div>"
      ],
      "text/plain": [
       "   fare_amount\n",
       "0      -1259.0\n",
       "1      -1238.0\n",
       "2       -750.0\n",
       "3       -730.0\n",
       "4       -500.0"
      ]
     },
     "execution_count": 11,
     "metadata": {},
     "output_type": "execute_result"
    }
   ],
   "source": [
    "bc.sql('SELECT fare_amount FROM taxidata ORDER BY fare_amount ASC LIMIT 5')"
   ]
  }
 ],
 "metadata": {
  "kernelspec": {
   "display_name": "saturn (Python 3)",
   "language": "python",
   "name": "python3"
  },
  "language_info": {
   "codemirror_mode": {
    "name": "ipython",
    "version": 3
   },
   "file_extension": ".py",
   "mimetype": "text/x-python",
   "name": "python",
   "nbconvert_exporter": "python",
   "pygments_lexer": "ipython3",
   "version": "3.7.12"
  }
 },
 "nbformat": 4,
 "nbformat_minor": 5
}
