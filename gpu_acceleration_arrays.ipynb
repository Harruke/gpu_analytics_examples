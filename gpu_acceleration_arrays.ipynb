{
  "nbformat": 4,
  "nbformat_minor": 0,
  "metadata": {
    "colab": {
      "name": "gpu_acceleration_arrays.ipynb",
      "provenance": [],
      "collapsed_sections": []
    },
    "kernelspec": {
      "name": "python3",
      "display_name": "Python 3"
    },
    "language_info": {
      "name": "python"
    },
    "accelerator": "GPU"
  },
  "cells": [
    {
      "cell_type": "markdown",
      "source": [
        "# **Cosine similarity example**"
      ],
      "metadata": {
        "id": "eWh92I9EporQ"
      }
    },
    {
      "cell_type": "code",
      "source": [
        "import numpy as np\n",
        "from sklearn.metrics import pairwise_distances\n",
        "\n",
        "import torch\n",
        "import cupy as cp\n",
        "\n",
        "from sys import getsizeof\n",
        "import time"
      ],
      "metadata": {
        "id": "h58xo_0Jp0EL"
      },
      "execution_count": null,
      "outputs": []
    },
    {
      "cell_type": "code",
      "source": [
        "np.show_config()  # check that numpy uses openblas for multithreading vectorized operations"
      ],
      "metadata": {
        "colab": {
          "base_uri": "https://localhost:8080/"
        },
        "id": "K1i0kBGt11Mj",
        "outputId": "a2c14591-de4f-46a1-ddec-fb2f471c6048"
      },
      "execution_count": null,
      "outputs": [
        {
          "output_type": "stream",
          "name": "stdout",
          "text": [
            "blas_mkl_info:\n",
            "  NOT AVAILABLE\n",
            "blis_info:\n",
            "  NOT AVAILABLE\n",
            "openblas_info:\n",
            "    libraries = ['openblas', 'openblas']\n",
            "    library_dirs = ['/usr/local/lib']\n",
            "    language = c\n",
            "    define_macros = [('HAVE_CBLAS', None)]\n",
            "    runtime_library_dirs = ['/usr/local/lib']\n",
            "blas_opt_info:\n",
            "    libraries = ['openblas', 'openblas']\n",
            "    library_dirs = ['/usr/local/lib']\n",
            "    language = c\n",
            "    define_macros = [('HAVE_CBLAS', None)]\n",
            "    runtime_library_dirs = ['/usr/local/lib']\n",
            "lapack_mkl_info:\n",
            "  NOT AVAILABLE\n",
            "openblas_lapack_info:\n",
            "    libraries = ['openblas', 'openblas']\n",
            "    library_dirs = ['/usr/local/lib']\n",
            "    language = c\n",
            "    define_macros = [('HAVE_CBLAS', None)]\n",
            "    runtime_library_dirs = ['/usr/local/lib']\n",
            "lapack_opt_info:\n",
            "    libraries = ['openblas', 'openblas']\n",
            "    library_dirs = ['/usr/local/lib']\n",
            "    language = c\n",
            "    define_macros = [('HAVE_CBLAS', None)]\n",
            "    runtime_library_dirs = ['/usr/local/lib']\n",
            "Supported SIMD extensions in this NumPy install:\n",
            "    baseline = SSE,SSE2,SSE3\n",
            "    found = SSSE3,SSE41,POPCNT,SSE42,AVX,F16C,FMA3,AVX2\n",
            "    not found = AVX512F,AVX512CD,AVX512_KNL,AVX512_KNM,AVX512_SKX,AVX512_CLX,AVX512_CNL,AVX512_ICL\n"
          ]
        }
      ]
    },
    {
      "cell_type": "code",
      "source": [
        "torch.cuda.is_available()  # check gpu is available"
      ],
      "metadata": {
        "colab": {
          "base_uri": "https://localhost:8080/"
        },
        "id": "lHmrbw_D0geh",
        "outputId": "b2e2e4e5-d379-45cf-e914-424e99937ebe"
      },
      "execution_count": null,
      "outputs": [
        {
          "output_type": "execute_result",
          "data": {
            "text/plain": [
              "True"
            ]
          },
          "metadata": {},
          "execution_count": 3
        }
      ]
    },
    {
      "cell_type": "code",
      "source": [
        "!free -m"
      ],
      "metadata": {
        "colab": {
          "base_uri": "https://localhost:8080/"
        },
        "id": "8tu6zxBbOy2N",
        "outputId": "6577d145-4857-498a-8cad-0dfdb19a740f"
      },
      "execution_count": null,
      "outputs": [
        {
          "output_type": "stream",
          "name": "stdout",
          "text": [
            "              total        used        free      shared  buff/cache   available\n",
            "Mem:          12991        1126        8630           1        3234       11636\n",
            "Swap:             0           0           0\n"
          ]
        }
      ]
    },
    {
      "cell_type": "code",
      "source": [
        "!nvidia-smi"
      ],
      "metadata": {
        "colab": {
          "base_uri": "https://localhost:8080/"
        },
        "id": "3Nskuc1YPDfE",
        "outputId": "f787fb60-3531-46ef-d5f9-7bd0e17a75ff"
      },
      "execution_count": null,
      "outputs": [
        {
          "output_type": "stream",
          "name": "stdout",
          "text": [
            "Sat Feb 26 22:02:46 2022       \n",
            "+-----------------------------------------------------------------------------+\n",
            "| NVIDIA-SMI 460.32.03    Driver Version: 460.32.03    CUDA Version: 11.2     |\n",
            "|-------------------------------+----------------------+----------------------+\n",
            "| GPU  Name        Persistence-M| Bus-Id        Disp.A | Volatile Uncorr. ECC |\n",
            "| Fan  Temp  Perf  Pwr:Usage/Cap|         Memory-Usage | GPU-Util  Compute M. |\n",
            "|                               |                      |               MIG M. |\n",
            "|===============================+======================+======================|\n",
            "|   0  Tesla K80           Off  | 00000000:00:04.0 Off |                    0 |\n",
            "| N/A   61C    P8    34W / 149W |      3MiB / 11441MiB |      0%      Default |\n",
            "|                               |                      |                  N/A |\n",
            "+-------------------------------+----------------------+----------------------+\n",
            "                                                                               \n",
            "+-----------------------------------------------------------------------------+\n",
            "| Processes:                                                                  |\n",
            "|  GPU   GI   CI        PID   Type   Process name                  GPU Memory |\n",
            "|        ID   ID                                                   Usage      |\n",
            "|=============================================================================|\n",
            "|  No running processes found                                                 |\n",
            "+-----------------------------------------------------------------------------+\n"
          ]
        }
      ]
    },
    {
      "cell_type": "code",
      "source": [
        "warmup = (torch.from_numpy(np.array([1,2,3])).to('cuda'))**2  # warmup the gpu as first call is slow"
      ],
      "metadata": {
        "id": "fJw6jIs_3N8P"
      },
      "execution_count": null,
      "outputs": []
    },
    {
      "cell_type": "markdown",
      "source": [
        "# **Arrays and Operations fit in memory**"
      ],
      "metadata": {
        "id": "kOqOo7-Wax_o"
      }
    },
    {
      "cell_type": "code",
      "source": [
        "vecs_1M = np.random.rand(1000000, 300)\n",
        "vecs_1K = np.random.rand(100, 300)\n",
        "print(f'vecs_1M: {getsizeof(vecs_1K)/1024/1024} MB')\n",
        "print(f'vecs_1K: {getsizeof(vecs_1M)/1024/1024} MB')"
      ],
      "metadata": {
        "id": "zrv36yVqq0L7",
        "colab": {
          "base_uri": "https://localhost:8080/"
        },
        "outputId": "4b1e5d6d-77b2-43a3-dbc2-8010685b2a9f"
      },
      "execution_count": null,
      "outputs": [
        {
          "output_type": "stream",
          "name": "stdout",
          "text": [
            "vecs_1M: 0.22899627685546875 MB\n",
            "vecs_1K: 2288.818473815918 MB\n"
          ]
        }
      ]
    },
    {
      "cell_type": "markdown",
      "source": [
        "### **CPU: sklearn and vectorized numpy**"
      ],
      "metadata": {
        "id": "W8fExByT2V8f"
      }
    },
    {
      "cell_type": "markdown",
      "source": [
        "**Cosine Distance**"
      ],
      "metadata": {
        "id": "jlZU7j4T4Sw3"
      }
    },
    {
      "cell_type": "code",
      "source": [
        "def run_numpy(A, B):\n",
        "  start = time.time()\n",
        "  t = []\n",
        "  for i in range(5):\n",
        "    t0 = time.time()\n",
        "    sim = np.inner(A, B)/np.outer(np.linalg.norm(A, ord=2, axis=1), np.linalg.norm(B, ord=2, axis=1))\n",
        "    t1 = time.time()-t0\n",
        "    print(t1)\n",
        "    t.append(t1)\n",
        "\n",
        "  print(\"average {} seconds per loop\".format(round(np.mean(t), 2)))\n",
        "  print(\"total running time: {}\".format(time.time()-start))\n",
        "  return np.mean(sim)\n",
        "\n",
        "def run_sklearn(A, B):\n",
        "  start = time.time()\n",
        "  t = []\n",
        "  for i in range(5):\n",
        "    t0 = time.time()\n",
        "    sim = 1-pairwise_distances(A, B, metric=\"cosine\")\n",
        "    t1 = time.time()-t0\n",
        "    print(t1)\n",
        "    t.append(t1)\n",
        "\n",
        "  print(\"average {} seconds per loop\".format(round(np.mean(t), 2)))\n",
        "  print(\"total running time: {}\".format(time.time()-start))\n",
        "  return np.mean(sim)"
      ],
      "metadata": {
        "id": "UwHxqUIW2U-U"
      },
      "execution_count": null,
      "outputs": []
    },
    {
      "cell_type": "code",
      "source": [
        "sim_sklearn = run_sklearn(vecs_1K, vecs_1K)\n",
        "print(sim_sklearn)"
      ],
      "metadata": {
        "colab": {
          "base_uri": "https://localhost:8080/"
        },
        "id": "RudQ_eez9V3H",
        "outputId": "61112cce-7a43-471f-b43f-33293924cbb0"
      },
      "execution_count": null,
      "outputs": [
        {
          "output_type": "stream",
          "name": "stdout",
          "text": [
            "0.01272892951965332\n",
            "0.005011558532714844\n",
            "0.0010542869567871094\n",
            "0.0012395381927490234\n",
            "0.00424504280090332\n",
            "average 0.0 seconds per loop\n",
            "total running time: 0.028494834899902344\n",
            "0.753365071247367\n"
          ]
        }
      ]
    },
    {
      "cell_type": "code",
      "source": [
        "sim_numpy = run_numpy(vecs_1K, vecs_1K)\n",
        "print(sim_numpy)"
      ],
      "metadata": {
        "colab": {
          "base_uri": "https://localhost:8080/"
        },
        "id": "xJtYC-_A9ZUO",
        "outputId": "d7f9a185-2101-4fc6-a87f-bbd82ef864bc"
      },
      "execution_count": null,
      "outputs": [
        {
          "output_type": "stream",
          "name": "stdout",
          "text": [
            "0.00519108772277832\n",
            "0.0005660057067871094\n",
            "0.0005333423614501953\n",
            "0.005492210388183594\n",
            "0.0005049705505371094\n",
            "average 0.0 seconds per loop\n",
            "total running time: 0.01632523536682129\n",
            "0.753365071247367\n"
          ]
        }
      ]
    },
    {
      "cell_type": "code",
      "source": [
        "sim_sklearn = run_sklearn(vecs_1M, vecs_1K)\n",
        "print(sim_sklearn)"
      ],
      "metadata": {
        "colab": {
          "base_uri": "https://localhost:8080/"
        },
        "id": "7Ha59Vl52u9V",
        "outputId": "2a80f9ad-6878-480f-a276-f97c5a731733"
      },
      "execution_count": null,
      "outputs": [
        {
          "output_type": "stream",
          "name": "stdout",
          "text": [
            "7.0094006061553955\n",
            "7.134569406509399\n",
            "5.298669815063477\n",
            "6.805742263793945\n",
            "5.834937572479248\n",
            "average 6.42 seconds per loop\n",
            "total running time: 32.085944175720215\n",
            "0.7505618006601283\n"
          ]
        }
      ]
    },
    {
      "cell_type": "code",
      "source": [
        "sim_numpy = run_numpy(vecs_1M, vecs_1K)\n",
        "print(sim_numpy)"
      ],
      "metadata": {
        "colab": {
          "base_uri": "https://localhost:8080/"
        },
        "id": "P2BzKMYg2xg0",
        "outputId": "8ba2ade9-cedd-4419-eff3-ea4154945dd1"
      },
      "execution_count": null,
      "outputs": [
        {
          "output_type": "stream",
          "name": "stdout",
          "text": [
            "4.438237905502319\n",
            "4.655865907669067\n",
            "4.366970062255859\n",
            "4.407408952713013\n",
            "4.416436433792114\n",
            "average 4.46 seconds per loop\n",
            "total running time: 22.289359092712402\n",
            "0.7505618006601283\n"
          ]
        }
      ]
    },
    {
      "cell_type": "code",
      "source": [
        "def run_cupy(A, B):\n",
        "  start = time.time()\n",
        "  A = cp.asarray(A)\n",
        "  B = cp.asarray(B)\n",
        "  t = []\n",
        "  for i in range(5):\n",
        "    t0 = time.time()\n",
        "    sim = cp.inner(A, B)/cp.outer(cp.linalg.norm(A, ord=2, axis=1), cp.linalg.norm(B, ord=2, axis=1))\n",
        "    t1 = time.time()-t0\n",
        "    print(t1)\n",
        "    t.append(t1)\n",
        "\n",
        "  print(\"average {} seconds per loop\".format(round(np.mean(t), 2)))\n",
        "  print(\"total running time: {}\".format(time.time()-start))\n",
        "  return cp.mean(sim)\n",
        "\n",
        "\n",
        "def run_torch(A, B):\n",
        "  start = time.time()\n",
        "  A = torch.from_numpy(A).to('cuda')\n",
        "  B = torch.from_numpy(B).to('cuda')\n",
        "  t_load = time.time()-start\n",
        "  t = []\n",
        "  for i in range(5):\n",
        "    t0 = time.time()\n",
        "    sim = torch.inner(A, B)/torch.outer(torch.linalg.norm(A, ord=2, dim=1), torch.linalg.norm(B, ord=2,dim=1))\n",
        "    t1 = time.time()-t0\n",
        "    print(t1)\n",
        "    t.append(t1)\n",
        "\n",
        "  print(\"loading time CPU -> GPU {}\".format(t_load))\n",
        "  print(\"average {} seconds per loop\".format(round(np.mean(t), 2)))\n",
        "  print(\"total running time: {}\".format(time.time()-start))\n",
        "  return torch.mean(sim)"
      ],
      "metadata": {
        "id": "rr9YxPTVsTLH"
      },
      "execution_count": null,
      "outputs": []
    },
    {
      "cell_type": "code",
      "source": [
        "sim_torch = run_torch(vecs_1M, vecs_1K)\n",
        "print(sim_torch)"
      ],
      "metadata": {
        "colab": {
          "base_uri": "https://localhost:8080/"
        },
        "id": "dd6vHTV90UmR",
        "outputId": "b2e12e43-fbff-4f0f-c537-dfa7b48e944a"
      },
      "execution_count": null,
      "outputs": [
        {
          "output_type": "stream",
          "name": "stdout",
          "text": [
            "0.007815361022949219\n",
            "0.002759695053100586\n",
            "0.0007944107055664062\n",
            "0.0008935928344726562\n",
            "0.0008795261383056641\n",
            "loading time CPU -> GPU 0.35512828826904297\n",
            "average 0.0 seconds per loop\n",
            "total running time: 0.36974406242370605\n",
            "tensor(0.7506, device='cuda:0', dtype=torch.float64)\n"
          ]
        }
      ]
    },
    {
      "cell_type": "code",
      "source": [
        "sim_cupy = run_cupy(vecs_1M, vecs_1K)\n",
        "print(sim_cupy)"
      ],
      "metadata": {
        "colab": {
          "base_uri": "https://localhost:8080/"
        },
        "id": "zkyLI4R14MMP",
        "outputId": "22242d66-1926-4fcb-bdbd-4edacfd48c79"
      },
      "execution_count": null,
      "outputs": [
        {
          "output_type": "stream",
          "name": "stdout",
          "text": [
            "0.5818169116973877\n",
            "0.004094362258911133\n",
            "0.001142740249633789\n",
            "0.0004963874816894531\n",
            "0.001016855239868164\n",
            "average 0.12 seconds per loop\n",
            "total running time: 3.442216396331787\n",
            "0.7505618006601301\n"
          ]
        }
      ]
    },
    {
      "cell_type": "markdown",
      "source": [
        "**Standard Deviation**"
      ],
      "metadata": {
        "id": "hCS-iMpj4X23"
      }
    },
    {
      "cell_type": "code",
      "source": [
        "t0 = time.time()\n",
        "np.std(vecs_1M, axis=1)\n",
        "print(\"cpu: {} seconds\".format(time.time()-t0))"
      ],
      "metadata": {
        "colab": {
          "base_uri": "https://localhost:8080/"
        },
        "id": "zJ5uuLQEM4kD",
        "outputId": "74b0911a-7a96-467e-8a0f-735df75ce887"
      },
      "execution_count": null,
      "outputs": [
        {
          "output_type": "stream",
          "name": "stdout",
          "text": [
            "cpu: 2.983079671859741 seconds\n"
          ]
        }
      ]
    },
    {
      "cell_type": "code",
      "source": [
        "vecs_1M_gpu = torch.from_numpy(vecs_1M).to('cuda')\n",
        "t0 = time.time()\n",
        "torch.std(vecs_1M_gpu, axis=1)\n",
        "print(\"gpu: {} seconds\".format(time.time()-t0))"
      ],
      "metadata": {
        "colab": {
          "base_uri": "https://localhost:8080/"
        },
        "id": "1f7Ll1ZfX5H8",
        "outputId": "873b2e52-9370-4f34-b991-a759ea5d7bde"
      },
      "execution_count": null,
      "outputs": [
        {
          "output_type": "stream",
          "name": "stdout",
          "text": [
            "gpu: 0.014722347259521484 seconds\n"
          ]
        }
      ]
    },
    {
      "cell_type": "markdown",
      "source": [
        "# **Operations do not fit in memory**"
      ],
      "metadata": {
        "id": "AoePu-mpZTeC"
      }
    },
    {
      "cell_type": "code",
      "source": [
        "torch.cuda.empty_cache()"
      ],
      "metadata": {
        "id": "jh-aR7WBbRn_"
      },
      "execution_count": null,
      "outputs": []
    },
    {
      "cell_type": "code",
      "source": [
        "import dask.array as da"
      ],
      "metadata": {
        "id": "S9HV6nSWQQmG"
      },
      "execution_count": null,
      "outputs": []
    },
    {
      "cell_type": "code",
      "source": [
        "vecs_1M_dask_gpu = da.from_array(cp.asarray(vecs_1M), chunks=(1000, 300)) # split the array in chunks of size (1000, 300)\n",
        "vecs_1M_dask_cpu = da.from_array(vecs_1M, chunks=(1000, 300)) "
      ],
      "metadata": {
        "id": "T7nTmbmIQRwb"
      },
      "execution_count": null,
      "outputs": []
    },
    {
      "cell_type": "code",
      "source": [
        "def cp_cdist(A, B):\n",
        "  return cp.dot(A, B.T)/cp.outer(cp.linalg.norm(A, ord=2, axis=1), cp.linalg.norm(B, ord=2, axis=1))\n",
        "\n",
        "def np_cdist(A, B):\n",
        "  return np.dot(A, B.T)/np.outer(np.linalg.norm(A, ord=2, axis=1), np.linalg.norm(B, ord=2, axis=1))\n",
        "\n",
        "def run_cupy_dask(A, B):\n",
        "  start = time.time()\n",
        "  t = []\n",
        "  for i in range(5):\n",
        "    t0 = time.time()\n",
        "    sim = da.map_blocks(cp_cdist, A, B, dtype=cp.float32)\n",
        "    sim = sim[:100000,:100000].compute()\n",
        "    t1 = time.time()-t0\n",
        "    print(t1)\n",
        "    t.append(t1)\n",
        "\n",
        "  print(\"average {} seconds per loop\".format(round(np.mean(t), 2)))\n",
        "  print(\"total running time: {}\".format(time.time()-start))\n",
        "  return sim\n",
        "\n",
        "def run_numpy_dask(A, B):\n",
        "  start = time.time()\n",
        "  t = []\n",
        "  for i in range(5):\n",
        "    t0 = time.time()\n",
        "    sim = da.map_blocks(np_cdist, A, B, dtype=np.float32)\n",
        "    sim = sim[:100000, :100000].compute()\n",
        "    t1 = time.time()-t0\n",
        "    print(t1)\n",
        "    t.append(t1)\n",
        "\n",
        "  print(\"average {} seconds per loop\".format(round(np.mean(t), 2)))\n",
        "  print(\"total running time: {}\".format(time.time()-start))\n",
        "  return sim"
      ],
      "metadata": {
        "id": "kVI3WJfNcpBt"
      },
      "execution_count": null,
      "outputs": []
    },
    {
      "cell_type": "code",
      "source": [
        "sim_dask_cpu = run_numpy_dask(vecs_1M_dask_cpu, vecs_1M_dask_cpu)\n",
        "print(sim_dask_cpu)"
      ],
      "metadata": {
        "colab": {
          "base_uri": "https://localhost:8080/"
        },
        "id": "YhYRRQ5VBioc",
        "outputId": "ba7f2338-8410-4373-abe2-380ee4318ec2"
      },
      "execution_count": null,
      "outputs": [
        {
          "output_type": "stream",
          "name": "stdout",
          "text": [
            "4.6633546352386475\n",
            "4.572694301605225\n",
            "4.875424146652222\n",
            "4.839929580688477\n",
            "4.660008192062378\n",
            "average 4.72 seconds per loop\n",
            "total running time: 23.619914531707764\n",
            "[[1.         0.75994951 0.76283928 ... 0.73395492 0.74478955 0.72235199]\n",
            " [0.75994951 1.         0.75144537 ... 0.7554739  0.74143814 0.75645132]\n",
            " [0.76283928 0.75144537 1.         ... 0.73379885 0.77120154 0.75987018]\n",
            " ...\n",
            " [0.73462304 0.72124727 0.77225656 ... 1.         0.75498603 0.74495495]\n",
            " [0.73336735 0.72781681 0.76226259 ... 0.75498603 1.         0.74946872]\n",
            " [0.77486488 0.74794437 0.74772344 ... 0.74495495 0.74946872 1.        ]]\n"
          ]
        }
      ]
    },
    {
      "cell_type": "code",
      "source": [
        "sim_dask = run_cupy_dask(vecs_1M_dask_gpu, vecs_1M_dask_gpu)\n",
        "print(sim_dask)"
      ],
      "metadata": {
        "colab": {
          "base_uri": "https://localhost:8080/"
        },
        "id": "J0VYvEJeQmwE",
        "outputId": "fce34acb-308e-4a4e-bd63-a5ea29fd73ef"
      },
      "execution_count": null,
      "outputs": [
        {
          "output_type": "stream",
          "name": "stdout",
          "text": [
            "0.19527626037597656\n",
            "0.18866705894470215\n",
            "0.1677556037902832\n",
            "0.18540024757385254\n",
            "0.17505121231079102\n",
            "average 0.18 seconds per loop\n",
            "total running time: 0.9199235439300537\n",
            "[[1.         0.75994951 0.76283928 ... 0.73395492 0.74478955 0.72235199]\n",
            " [0.75994951 1.         0.75144537 ... 0.7554739  0.74143814 0.75645132]\n",
            " [0.76283928 0.75144537 1.         ... 0.73379885 0.77120154 0.75987018]\n",
            " ...\n",
            " [0.73462304 0.72124727 0.77225656 ... 1.         0.75498603 0.74495495]\n",
            " [0.73336735 0.72781681 0.76226259 ... 0.75498603 1.         0.74946872]\n",
            " [0.77486488 0.74794437 0.74772344 ... 0.74495495 0.74946872 1.        ]]\n"
          ]
        }
      ]
    }
  ]
}